{
 "cells": [
  {
   "cell_type": "markdown",
   "id": "798d2f63-9d5a-49ed-a053-1fbaf4b78632",
   "metadata": {
    "jp-MarkdownHeadingCollapsed": true,
    "tags": []
   },
   "source": [
    "## Question 1"
   ]
  },
  {
   "cell_type": "code",
   "execution_count": 1,
   "id": "f41bbe97-f92e-4e15-896b-eaf320c1e897",
   "metadata": {
    "tags": []
   },
   "outputs": [],
   "source": [
    "import pandas as pd\n",
    "import numpy as np\n",
    "import matplotlib.pyplot as plt"
   ]
  },
  {
   "cell_type": "code",
   "execution_count": 2,
   "id": "754b51d5-1626-4fcf-a32f-0017b152856a",
   "metadata": {
    "tags": []
   },
   "outputs": [],
   "source": [
    "rating_df = pd.read_csv(\"ml-1m/ratings.dat\", sep='::', header=None, engine=\"python\", names=[\"userID\", \"movieID\", \"rating\", \"timestamp\"])\n",
    "movie_df = pd.read_csv(\"ml-1m/movies.dat\", sep='::', header=None, engine=\"python\", encoding='latin-1', names=[\"movieID\", \"title\", \"genre\"])\n",
    "user_df = pd.read_csv(\"ml-1m/users.dat\", sep='::', header=None, engine=\"python\", names=[\"userID\", \"gender\", \"age\", \"occupation\", \"zipcode\"])"
   ]
  },
  {
   "cell_type": "code",
   "execution_count": 3,
   "id": "c77890f8-199d-4b4e-88db-7d435cdd0799",
   "metadata": {},
   "outputs": [
    {
     "data": {
      "text/html": [
       "<div>\n",
       "<style scoped>\n",
       "    .dataframe tbody tr th:only-of-type {\n",
       "        vertical-align: middle;\n",
       "    }\n",
       "\n",
       "    .dataframe tbody tr th {\n",
       "        vertical-align: top;\n",
       "    }\n",
       "\n",
       "    .dataframe thead th {\n",
       "        text-align: right;\n",
       "    }\n",
       "</style>\n",
       "<table border=\"1\" class=\"dataframe\">\n",
       "  <thead>\n",
       "    <tr style=\"text-align: right;\">\n",
       "      <th></th>\n",
       "      <th>userID</th>\n",
       "      <th>movieID</th>\n",
       "      <th>rating</th>\n",
       "      <th>timestamp</th>\n",
       "    </tr>\n",
       "  </thead>\n",
       "  <tbody>\n",
       "    <tr>\n",
       "      <th>0</th>\n",
       "      <td>1</td>\n",
       "      <td>1193</td>\n",
       "      <td>5</td>\n",
       "      <td>978300760</td>\n",
       "    </tr>\n",
       "    <tr>\n",
       "      <th>1</th>\n",
       "      <td>1</td>\n",
       "      <td>661</td>\n",
       "      <td>3</td>\n",
       "      <td>978302109</td>\n",
       "    </tr>\n",
       "    <tr>\n",
       "      <th>2</th>\n",
       "      <td>1</td>\n",
       "      <td>914</td>\n",
       "      <td>3</td>\n",
       "      <td>978301968</td>\n",
       "    </tr>\n",
       "    <tr>\n",
       "      <th>3</th>\n",
       "      <td>1</td>\n",
       "      <td>3408</td>\n",
       "      <td>4</td>\n",
       "      <td>978300275</td>\n",
       "    </tr>\n",
       "    <tr>\n",
       "      <th>4</th>\n",
       "      <td>1</td>\n",
       "      <td>2355</td>\n",
       "      <td>5</td>\n",
       "      <td>978824291</td>\n",
       "    </tr>\n",
       "    <tr>\n",
       "      <th>...</th>\n",
       "      <td>...</td>\n",
       "      <td>...</td>\n",
       "      <td>...</td>\n",
       "      <td>...</td>\n",
       "    </tr>\n",
       "    <tr>\n",
       "      <th>1000204</th>\n",
       "      <td>6040</td>\n",
       "      <td>1091</td>\n",
       "      <td>1</td>\n",
       "      <td>956716541</td>\n",
       "    </tr>\n",
       "    <tr>\n",
       "      <th>1000205</th>\n",
       "      <td>6040</td>\n",
       "      <td>1094</td>\n",
       "      <td>5</td>\n",
       "      <td>956704887</td>\n",
       "    </tr>\n",
       "    <tr>\n",
       "      <th>1000206</th>\n",
       "      <td>6040</td>\n",
       "      <td>562</td>\n",
       "      <td>5</td>\n",
       "      <td>956704746</td>\n",
       "    </tr>\n",
       "    <tr>\n",
       "      <th>1000207</th>\n",
       "      <td>6040</td>\n",
       "      <td>1096</td>\n",
       "      <td>4</td>\n",
       "      <td>956715648</td>\n",
       "    </tr>\n",
       "    <tr>\n",
       "      <th>1000208</th>\n",
       "      <td>6040</td>\n",
       "      <td>1097</td>\n",
       "      <td>4</td>\n",
       "      <td>956715569</td>\n",
       "    </tr>\n",
       "  </tbody>\n",
       "</table>\n",
       "<p>1000209 rows × 4 columns</p>\n",
       "</div>"
      ],
      "text/plain": [
       "         userID  movieID  rating  timestamp\n",
       "0             1     1193       5  978300760\n",
       "1             1      661       3  978302109\n",
       "2             1      914       3  978301968\n",
       "3             1     3408       4  978300275\n",
       "4             1     2355       5  978824291\n",
       "...         ...      ...     ...        ...\n",
       "1000204    6040     1091       1  956716541\n",
       "1000205    6040     1094       5  956704887\n",
       "1000206    6040      562       5  956704746\n",
       "1000207    6040     1096       4  956715648\n",
       "1000208    6040     1097       4  956715569\n",
       "\n",
       "[1000209 rows x 4 columns]"
      ]
     },
     "execution_count": 3,
     "metadata": {},
     "output_type": "execute_result"
    }
   ],
   "source": [
    "rating_df"
   ]
  },
  {
   "cell_type": "code",
   "execution_count": 4,
   "id": "7ce506ee-a2c6-4d7c-af59-5e6cec787bcf",
   "metadata": {},
   "outputs": [
    {
     "data": {
      "text/html": [
       "<div>\n",
       "<style scoped>\n",
       "    .dataframe tbody tr th:only-of-type {\n",
       "        vertical-align: middle;\n",
       "    }\n",
       "\n",
       "    .dataframe tbody tr th {\n",
       "        vertical-align: top;\n",
       "    }\n",
       "\n",
       "    .dataframe thead th {\n",
       "        text-align: right;\n",
       "    }\n",
       "</style>\n",
       "<table border=\"1\" class=\"dataframe\">\n",
       "  <thead>\n",
       "    <tr style=\"text-align: right;\">\n",
       "      <th></th>\n",
       "      <th>movieID</th>\n",
       "      <th>title</th>\n",
       "      <th>genre</th>\n",
       "    </tr>\n",
       "  </thead>\n",
       "  <tbody>\n",
       "    <tr>\n",
       "      <th>0</th>\n",
       "      <td>1</td>\n",
       "      <td>Toy Story (1995)</td>\n",
       "      <td>Animation|Children's|Comedy</td>\n",
       "    </tr>\n",
       "    <tr>\n",
       "      <th>1</th>\n",
       "      <td>2</td>\n",
       "      <td>Jumanji (1995)</td>\n",
       "      <td>Adventure|Children's|Fantasy</td>\n",
       "    </tr>\n",
       "    <tr>\n",
       "      <th>2</th>\n",
       "      <td>3</td>\n",
       "      <td>Grumpier Old Men (1995)</td>\n",
       "      <td>Comedy|Romance</td>\n",
       "    </tr>\n",
       "    <tr>\n",
       "      <th>3</th>\n",
       "      <td>4</td>\n",
       "      <td>Waiting to Exhale (1995)</td>\n",
       "      <td>Comedy|Drama</td>\n",
       "    </tr>\n",
       "    <tr>\n",
       "      <th>4</th>\n",
       "      <td>5</td>\n",
       "      <td>Father of the Bride Part II (1995)</td>\n",
       "      <td>Comedy</td>\n",
       "    </tr>\n",
       "    <tr>\n",
       "      <th>...</th>\n",
       "      <td>...</td>\n",
       "      <td>...</td>\n",
       "      <td>...</td>\n",
       "    </tr>\n",
       "    <tr>\n",
       "      <th>3878</th>\n",
       "      <td>3948</td>\n",
       "      <td>Meet the Parents (2000)</td>\n",
       "      <td>Comedy</td>\n",
       "    </tr>\n",
       "    <tr>\n",
       "      <th>3879</th>\n",
       "      <td>3949</td>\n",
       "      <td>Requiem for a Dream (2000)</td>\n",
       "      <td>Drama</td>\n",
       "    </tr>\n",
       "    <tr>\n",
       "      <th>3880</th>\n",
       "      <td>3950</td>\n",
       "      <td>Tigerland (2000)</td>\n",
       "      <td>Drama</td>\n",
       "    </tr>\n",
       "    <tr>\n",
       "      <th>3881</th>\n",
       "      <td>3951</td>\n",
       "      <td>Two Family House (2000)</td>\n",
       "      <td>Drama</td>\n",
       "    </tr>\n",
       "    <tr>\n",
       "      <th>3882</th>\n",
       "      <td>3952</td>\n",
       "      <td>Contender, The (2000)</td>\n",
       "      <td>Drama|Thriller</td>\n",
       "    </tr>\n",
       "  </tbody>\n",
       "</table>\n",
       "<p>3883 rows × 3 columns</p>\n",
       "</div>"
      ],
      "text/plain": [
       "      movieID                               title  \\\n",
       "0           1                    Toy Story (1995)   \n",
       "1           2                      Jumanji (1995)   \n",
       "2           3             Grumpier Old Men (1995)   \n",
       "3           4            Waiting to Exhale (1995)   \n",
       "4           5  Father of the Bride Part II (1995)   \n",
       "...       ...                                 ...   \n",
       "3878     3948             Meet the Parents (2000)   \n",
       "3879     3949          Requiem for a Dream (2000)   \n",
       "3880     3950                    Tigerland (2000)   \n",
       "3881     3951             Two Family House (2000)   \n",
       "3882     3952               Contender, The (2000)   \n",
       "\n",
       "                             genre  \n",
       "0      Animation|Children's|Comedy  \n",
       "1     Adventure|Children's|Fantasy  \n",
       "2                   Comedy|Romance  \n",
       "3                     Comedy|Drama  \n",
       "4                           Comedy  \n",
       "...                            ...  \n",
       "3878                        Comedy  \n",
       "3879                         Drama  \n",
       "3880                         Drama  \n",
       "3881                         Drama  \n",
       "3882                Drama|Thriller  \n",
       "\n",
       "[3883 rows x 3 columns]"
      ]
     },
     "execution_count": 4,
     "metadata": {},
     "output_type": "execute_result"
    }
   ],
   "source": [
    "movie_df"
   ]
  },
  {
   "cell_type": "code",
   "execution_count": 5,
   "id": "b458d468-a853-4fb1-9d68-bc85f92a2dc5",
   "metadata": {},
   "outputs": [
    {
     "data": {
      "text/html": [
       "<div>\n",
       "<style scoped>\n",
       "    .dataframe tbody tr th:only-of-type {\n",
       "        vertical-align: middle;\n",
       "    }\n",
       "\n",
       "    .dataframe tbody tr th {\n",
       "        vertical-align: top;\n",
       "    }\n",
       "\n",
       "    .dataframe thead th {\n",
       "        text-align: right;\n",
       "    }\n",
       "</style>\n",
       "<table border=\"1\" class=\"dataframe\">\n",
       "  <thead>\n",
       "    <tr style=\"text-align: right;\">\n",
       "      <th></th>\n",
       "      <th>userID</th>\n",
       "      <th>gender</th>\n",
       "      <th>age</th>\n",
       "      <th>occupation</th>\n",
       "      <th>zipcode</th>\n",
       "    </tr>\n",
       "  </thead>\n",
       "  <tbody>\n",
       "    <tr>\n",
       "      <th>0</th>\n",
       "      <td>1</td>\n",
       "      <td>F</td>\n",
       "      <td>1</td>\n",
       "      <td>10</td>\n",
       "      <td>48067</td>\n",
       "    </tr>\n",
       "    <tr>\n",
       "      <th>1</th>\n",
       "      <td>2</td>\n",
       "      <td>M</td>\n",
       "      <td>56</td>\n",
       "      <td>16</td>\n",
       "      <td>70072</td>\n",
       "    </tr>\n",
       "    <tr>\n",
       "      <th>2</th>\n",
       "      <td>3</td>\n",
       "      <td>M</td>\n",
       "      <td>25</td>\n",
       "      <td>15</td>\n",
       "      <td>55117</td>\n",
       "    </tr>\n",
       "    <tr>\n",
       "      <th>3</th>\n",
       "      <td>4</td>\n",
       "      <td>M</td>\n",
       "      <td>45</td>\n",
       "      <td>7</td>\n",
       "      <td>02460</td>\n",
       "    </tr>\n",
       "    <tr>\n",
       "      <th>4</th>\n",
       "      <td>5</td>\n",
       "      <td>M</td>\n",
       "      <td>25</td>\n",
       "      <td>20</td>\n",
       "      <td>55455</td>\n",
       "    </tr>\n",
       "    <tr>\n",
       "      <th>...</th>\n",
       "      <td>...</td>\n",
       "      <td>...</td>\n",
       "      <td>...</td>\n",
       "      <td>...</td>\n",
       "      <td>...</td>\n",
       "    </tr>\n",
       "    <tr>\n",
       "      <th>6035</th>\n",
       "      <td>6036</td>\n",
       "      <td>F</td>\n",
       "      <td>25</td>\n",
       "      <td>15</td>\n",
       "      <td>32603</td>\n",
       "    </tr>\n",
       "    <tr>\n",
       "      <th>6036</th>\n",
       "      <td>6037</td>\n",
       "      <td>F</td>\n",
       "      <td>45</td>\n",
       "      <td>1</td>\n",
       "      <td>76006</td>\n",
       "    </tr>\n",
       "    <tr>\n",
       "      <th>6037</th>\n",
       "      <td>6038</td>\n",
       "      <td>F</td>\n",
       "      <td>56</td>\n",
       "      <td>1</td>\n",
       "      <td>14706</td>\n",
       "    </tr>\n",
       "    <tr>\n",
       "      <th>6038</th>\n",
       "      <td>6039</td>\n",
       "      <td>F</td>\n",
       "      <td>45</td>\n",
       "      <td>0</td>\n",
       "      <td>01060</td>\n",
       "    </tr>\n",
       "    <tr>\n",
       "      <th>6039</th>\n",
       "      <td>6040</td>\n",
       "      <td>M</td>\n",
       "      <td>25</td>\n",
       "      <td>6</td>\n",
       "      <td>11106</td>\n",
       "    </tr>\n",
       "  </tbody>\n",
       "</table>\n",
       "<p>6040 rows × 5 columns</p>\n",
       "</div>"
      ],
      "text/plain": [
       "      userID gender  age  occupation zipcode\n",
       "0          1      F    1          10   48067\n",
       "1          2      M   56          16   70072\n",
       "2          3      M   25          15   55117\n",
       "3          4      M   45           7   02460\n",
       "4          5      M   25          20   55455\n",
       "...      ...    ...  ...         ...     ...\n",
       "6035    6036      F   25          15   32603\n",
       "6036    6037      F   45           1   76006\n",
       "6037    6038      F   56           1   14706\n",
       "6038    6039      F   45           0   01060\n",
       "6039    6040      M   25           6   11106\n",
       "\n",
       "[6040 rows x 5 columns]"
      ]
     },
     "execution_count": 5,
     "metadata": {},
     "output_type": "execute_result"
    }
   ],
   "source": [
    "user_df"
   ]
  },
  {
   "cell_type": "markdown",
   "id": "d7d279f6-3486-4633-9fd5-f52081785c36",
   "metadata": {
    "tags": []
   },
   "source": [
    "*Important notes*:\n",
    "- not all users and items appear in the rating(interaction) data\n",
    "- user and items IDs are not necessarily in the format of 1 to |U| or |I|."
   ]
  },
  {
   "cell_type": "markdown",
   "id": "38e78627-468e-4418-b6d8-2e8e72c94a0c",
   "metadata": {},
   "source": [
    "### (a)"
   ]
  },
  {
   "cell_type": "code",
   "execution_count": 6,
   "id": "6a23b20d-6cf9-48c5-b9b4-f387593ab0b9",
   "metadata": {},
   "outputs": [
    {
     "data": {
      "text/plain": [
       "(6040, 3706)"
      ]
     },
     "execution_count": 6,
     "metadata": {},
     "output_type": "execute_result"
    }
   ],
   "source": [
    "len(rating_df[\"userID\"].unique()),len(rating_df[\"movieID\"].unique())"
   ]
  },
  {
   "cell_type": "code",
   "execution_count": 7,
   "id": "3784b7c7-1507-4872-babd-a2c016c74875",
   "metadata": {},
   "outputs": [],
   "source": [
    "item_rating_cnts = rating_df.groupby(\"movieID\").count()[\"rating\"]"
   ]
  },
  {
   "cell_type": "code",
   "execution_count": 8,
   "id": "61b865a1-8f9a-4113-a1f8-dbcee8a7dacb",
   "metadata": {},
   "outputs": [
    {
     "data": {
      "text/plain": [
       "movieID\n",
       "1       2077\n",
       "2        701\n",
       "3        478\n",
       "4        170\n",
       "5        296\n",
       "        ... \n",
       "3948     862\n",
       "3949     304\n",
       "3950      54\n",
       "3951      40\n",
       "3952     388\n",
       "Name: rating, Length: 3706, dtype: int64"
      ]
     },
     "execution_count": 8,
     "metadata": {},
     "output_type": "execute_result"
    }
   ],
   "source": [
    "item_rating_cnts"
   ]
  },
  {
   "cell_type": "code",
   "execution_count": 9,
   "id": "3a2c27aa-8c17-4bac-8ff7-7426d1cbd0f0",
   "metadata": {},
   "outputs": [
    {
     "data": {
      "text/plain": [
       "(3428, 1)"
      ]
     },
     "execution_count": 9,
     "metadata": {},
     "output_type": "execute_result"
    }
   ],
   "source": [
    "max(item_rating_cnts), min(item_rating_cnts)"
   ]
  },
  {
   "cell_type": "markdown",
   "id": "1a623fc7-dd5e-4099-a546-76c304ec9060",
   "metadata": {},
   "source": [
    "note: also correct if you answered 0 for min item ratings -- considering those items who did not appear in the rating data."
   ]
  },
  {
   "cell_type": "code",
   "execution_count": 10,
   "id": "2d02d602-f78d-422c-af47-b9d899c66ff7",
   "metadata": {},
   "outputs": [],
   "source": [
    "user_rating_cnts = rating_df.groupby(\"userID\").count()[\"rating\"]"
   ]
  },
  {
   "cell_type": "code",
   "execution_count": 11,
   "id": "02224f70-f5e5-498b-b0e8-095c5dfc83cc",
   "metadata": {},
   "outputs": [
    {
     "data": {
      "text/plain": [
       "(2314, 20)"
      ]
     },
     "execution_count": 11,
     "metadata": {},
     "output_type": "execute_result"
    }
   ],
   "source": [
    "max(user_rating_cnts), min(user_rating_cnts)"
   ]
  },
  {
   "cell_type": "markdown",
   "id": "881e8356-2cc1-468c-9578-f64f8babcb81",
   "metadata": {
    "tags": []
   },
   "source": [
    "### (b)"
   ]
  },
  {
   "cell_type": "code",
   "execution_count": 12,
   "id": "1b59c032-3faf-49a6-aac7-584baea2ea7c",
   "metadata": {},
   "outputs": [],
   "source": [
    "def query_user(userID):\n",
    "    user_df = rating_df[rating_df[\"userID\"] == userID]\n",
    "    print(len(user_df), user_df[\"rating\"].mean())"
   ]
  },
  {
   "cell_type": "code",
   "execution_count": 13,
   "id": "93c7e4e7-7110-40d1-9ff3-55e42bd166ca",
   "metadata": {},
   "outputs": [
    {
     "name": "stdout",
     "output_type": "stream",
     "text": [
      "76 3.026315789473684\n"
     ]
    }
   ],
   "source": [
    "query_user(userID=100)"
   ]
  },
  {
   "cell_type": "code",
   "execution_count": 14,
   "id": "9d0fe1fa-9a2b-4e86-8e9a-6fb541facdc2",
   "metadata": {},
   "outputs": [
    {
     "name": "stdout",
     "output_type": "stream",
     "text": [
      "35 4.114285714285714\n"
     ]
    }
   ],
   "source": [
    "query_user(userID=381)"
   ]
  },
  {
   "cell_type": "markdown",
   "id": "cf91a329-9b9e-4d7c-8d0c-0e533ce45112",
   "metadata": {
    "tags": []
   },
   "source": [
    "### (c)"
   ]
  },
  {
   "cell_type": "code",
   "execution_count": 15,
   "id": "3bffeeef-e8cd-4cbd-8466-d67a8f0dd7cd",
   "metadata": {},
   "outputs": [],
   "source": [
    "age_value_to_text = {1:'<18', 18:'18-24', 25:'25-34', 35:'35-44', 45:'45-49', 50:'50-55', 56:'56+'}\n",
    "user_id_to_age = dict(zip(user_df.userID, user_df.age.map(age_value_to_text)))"
   ]
  },
  {
   "cell_type": "code",
   "execution_count": 16,
   "id": "5eb7eda0-9ac9-4e89-a112-f7ecd047515c",
   "metadata": {},
   "outputs": [],
   "source": [
    "age_rating_df = rating_df.copy()\n",
    "age_rating_df[\"age\"] = age_rating_df[\"userID\"].map(user_id_to_age)"
   ]
  },
  {
   "cell_type": "code",
   "execution_count": 17,
   "id": "d0a25db7-021e-4f57-a181-ab44d98f0112",
   "metadata": {},
   "outputs": [
    {
     "data": {
      "text/html": [
       "<div>\n",
       "<style scoped>\n",
       "    .dataframe tbody tr th:only-of-type {\n",
       "        vertical-align: middle;\n",
       "    }\n",
       "\n",
       "    .dataframe tbody tr th {\n",
       "        vertical-align: top;\n",
       "    }\n",
       "\n",
       "    .dataframe thead th {\n",
       "        text-align: right;\n",
       "    }\n",
       "</style>\n",
       "<table border=\"1\" class=\"dataframe\">\n",
       "  <thead>\n",
       "    <tr style=\"text-align: right;\">\n",
       "      <th></th>\n",
       "      <th>userID</th>\n",
       "      <th>movieID</th>\n",
       "      <th>rating</th>\n",
       "      <th>timestamp</th>\n",
       "      <th>age</th>\n",
       "    </tr>\n",
       "  </thead>\n",
       "  <tbody>\n",
       "    <tr>\n",
       "      <th>0</th>\n",
       "      <td>1</td>\n",
       "      <td>1193</td>\n",
       "      <td>5</td>\n",
       "      <td>978300760</td>\n",
       "      <td>&lt;18</td>\n",
       "    </tr>\n",
       "    <tr>\n",
       "      <th>1</th>\n",
       "      <td>1</td>\n",
       "      <td>661</td>\n",
       "      <td>3</td>\n",
       "      <td>978302109</td>\n",
       "      <td>&lt;18</td>\n",
       "    </tr>\n",
       "    <tr>\n",
       "      <th>2</th>\n",
       "      <td>1</td>\n",
       "      <td>914</td>\n",
       "      <td>3</td>\n",
       "      <td>978301968</td>\n",
       "      <td>&lt;18</td>\n",
       "    </tr>\n",
       "    <tr>\n",
       "      <th>3</th>\n",
       "      <td>1</td>\n",
       "      <td>3408</td>\n",
       "      <td>4</td>\n",
       "      <td>978300275</td>\n",
       "      <td>&lt;18</td>\n",
       "    </tr>\n",
       "    <tr>\n",
       "      <th>4</th>\n",
       "      <td>1</td>\n",
       "      <td>2355</td>\n",
       "      <td>5</td>\n",
       "      <td>978824291</td>\n",
       "      <td>&lt;18</td>\n",
       "    </tr>\n",
       "    <tr>\n",
       "      <th>...</th>\n",
       "      <td>...</td>\n",
       "      <td>...</td>\n",
       "      <td>...</td>\n",
       "      <td>...</td>\n",
       "      <td>...</td>\n",
       "    </tr>\n",
       "    <tr>\n",
       "      <th>1000204</th>\n",
       "      <td>6040</td>\n",
       "      <td>1091</td>\n",
       "      <td>1</td>\n",
       "      <td>956716541</td>\n",
       "      <td>25-34</td>\n",
       "    </tr>\n",
       "    <tr>\n",
       "      <th>1000205</th>\n",
       "      <td>6040</td>\n",
       "      <td>1094</td>\n",
       "      <td>5</td>\n",
       "      <td>956704887</td>\n",
       "      <td>25-34</td>\n",
       "    </tr>\n",
       "    <tr>\n",
       "      <th>1000206</th>\n",
       "      <td>6040</td>\n",
       "      <td>562</td>\n",
       "      <td>5</td>\n",
       "      <td>956704746</td>\n",
       "      <td>25-34</td>\n",
       "    </tr>\n",
       "    <tr>\n",
       "      <th>1000207</th>\n",
       "      <td>6040</td>\n",
       "      <td>1096</td>\n",
       "      <td>4</td>\n",
       "      <td>956715648</td>\n",
       "      <td>25-34</td>\n",
       "    </tr>\n",
       "    <tr>\n",
       "      <th>1000208</th>\n",
       "      <td>6040</td>\n",
       "      <td>1097</td>\n",
       "      <td>4</td>\n",
       "      <td>956715569</td>\n",
       "      <td>25-34</td>\n",
       "    </tr>\n",
       "  </tbody>\n",
       "</table>\n",
       "<p>1000209 rows × 5 columns</p>\n",
       "</div>"
      ],
      "text/plain": [
       "         userID  movieID  rating  timestamp    age\n",
       "0             1     1193       5  978300760    <18\n",
       "1             1      661       3  978302109    <18\n",
       "2             1      914       3  978301968    <18\n",
       "3             1     3408       4  978300275    <18\n",
       "4             1     2355       5  978824291    <18\n",
       "...         ...      ...     ...        ...    ...\n",
       "1000204    6040     1091       1  956716541  25-34\n",
       "1000205    6040     1094       5  956704887  25-34\n",
       "1000206    6040      562       5  956704746  25-34\n",
       "1000207    6040     1096       4  956715648  25-34\n",
       "1000208    6040     1097       4  956715569  25-34\n",
       "\n",
       "[1000209 rows x 5 columns]"
      ]
     },
     "execution_count": 17,
     "metadata": {},
     "output_type": "execute_result"
    }
   ],
   "source": [
    "age_rating_df"
   ]
  },
  {
   "cell_type": "code",
   "execution_count": 18,
   "id": "39e8c7bf-ac75-4940-b7df-348865122467",
   "metadata": {},
   "outputs": [
    {
     "data": {
      "text/plain": [
       "age\n",
       "18-24    3.507573\n",
       "25-34    3.545235\n",
       "35-44    3.618162\n",
       "45-49    3.638062\n",
       "50-55    3.714512\n",
       "56+      3.766632\n",
       "<18      3.549520\n",
       "Name: rating, dtype: float64"
      ]
     },
     "execution_count": 18,
     "metadata": {},
     "output_type": "execute_result"
    }
   ],
   "source": [
    "age_rating_df.groupby(\"age\")[\"rating\"].mean()"
   ]
  },
  {
   "cell_type": "code",
   "execution_count": 19,
   "id": "a4973682-6061-4bc7-bf70-63404865d2f5",
   "metadata": {},
   "outputs": [
    {
     "data": {
      "text/plain": [
       "age\n",
       "18-24    183536\n",
       "25-34    395556\n",
       "35-44    199003\n",
       "45-49     83633\n",
       "50-55     72490\n",
       "56+       38780\n",
       "<18       27211\n",
       "Name: rating, dtype: int64"
      ]
     },
     "execution_count": 19,
     "metadata": {},
     "output_type": "execute_result"
    }
   ],
   "source": [
    "age_rating_df.groupby(\"age\")[\"rating\"].count()"
   ]
  },
  {
   "cell_type": "code",
   "execution_count": 20,
   "id": "804d8be4-d499-4043-ba3d-e9a67921e4ac",
   "metadata": {},
   "outputs": [],
   "source": [
    "x = age_rating_df.groupby(\"age\")[\"rating\"].count().index.tolist()\n",
    "y_rating_cnts = age_rating_df.groupby(\"age\")[\"rating\"].count().tolist()"
   ]
  },
  {
   "cell_type": "code",
   "execution_count": 21,
   "id": "aab8462b-51a0-4a29-a650-eebc45a01d80",
   "metadata": {},
   "outputs": [
    {
     "data": {
      "text/plain": [
       "<BarContainer object of 7 artists>"
      ]
     },
     "execution_count": 21,
     "metadata": {},
     "output_type": "execute_result"
    },
    {
     "data": {
      "image/png": "[encoded data removed]",
      "text/plain": [
       "<Figure size 432x288 with 1 Axes>"
      ]
     },
     "metadata": {
      "needs_background": "light"
     },
     "output_type": "display_data"
    }
   ],
   "source": [
    "plt.bar(x, y_rating_cnts)"
   ]
  },
  {
   "cell_type": "code",
   "execution_count": 22,
   "id": "f8c5c23c-acc3-45c4-a15b-74d658af428f",
   "metadata": {},
   "outputs": [
    {
     "data": {
      "text/plain": [
       "<BarContainer object of 7 artists>"
      ]
     },
     "execution_count": 22,
     "metadata": {},
     "output_type": "execute_result"
    },
    {
     "data": {
      "image/png": "[encoded data removed]",
      "text/plain": [
       "<Figure size 432x288 with 1 Axes>"
      ]
     },
     "metadata": {
      "needs_background": "light"
     },
     "output_type": "display_data"
    }
   ],
   "source": [
    "y_rating_avg = age_rating_df.groupby(\"age\")[\"rating\"].mean().tolist()\n",
    "plt.bar(x, y_rating_avg)"
   ]
  },
  {
   "cell_type": "markdown",
   "id": "f92c8539-0bc4-4eed-b9f9-8d84156822ac",
   "metadata": {
    "jp-MarkdownHeadingCollapsed": true,
    "tags": []
   },
   "source": [
    "## Question 2"
   ]
  },
  {
   "cell_type": "code",
   "execution_count": 23,
   "id": "f86e117d-ca96-49b3-9535-5d05339ad59e",
   "metadata": {},
   "outputs": [],
   "source": [
    "import pandas as pd \n",
    "import numpy as np\n",
    "from scipy.spatial.distance import cosine\n",
    "\n",
    "class Similarity:\n",
    "    \"\"\"Implement the required functions for Q2\"\"\"\n",
    "    def __init__(self, rating_file):\n",
    "        self.ratings = pd.read_csv(rating_file, sep='::', header=None, engine=\"python\", \n",
    "                                   names=[\"userID\", \"movieID\", \"rating\", \"timestamp\"])\n",
    "        # compute R_u and R_i for once and save into a dict.\n",
    "        self.avg_rat_users = dict(self.ratings.groupby(\"userID\").mean()[\"rating\"])\n",
    "        self.avg_rat_items = dict(self.ratings.groupby(\"movieID\").mean()[\"rating\"])\n",
    "        \n",
    "    def set_U(self, i):\n",
    "        return set(self.ratings[self.ratings.movieID == i].userID.unique())\n",
    "    \n",
    "    def set_I(self, u):\n",
    "        return set(self.ratings[self.ratings.userID == u].movieID.unique())\n",
    "    \n",
    "    def item_rat_intersec(self, i, j):\n",
    "        # in case the item hase been rated multiple times by the same user\n",
    "        ri = self.ratings[self.ratings[\"movieID\"] == i].groupby(\"userID\").mean()[\"rating\"]\n",
    "        rj = self.ratings[self.ratings[\"movieID\"] == j].groupby(\"userID\").mean()[\"rating\"]\n",
    "        common_users = ri.index.intersection(rj.index)\n",
    "        ri = ri[common_users].values\n",
    "        rj = rj[common_users].values\n",
    "        return ri, rj\n",
    "    \n",
    "    def user_rat_intersec(self, i, j):\n",
    "        # in case the item hase been rated multiple times by the same user\n",
    "        ri = self.ratings[self.ratings[\"userID\"] == i].groupby(\"movieID\").mean()[\"rating\"]\n",
    "        rj = self.ratings[self.ratings[\"userID\"] == j].groupby(\"movieID\").mean()[\"rating\"]\n",
    "        common_items = ri.index.intersection(rj.index)\n",
    "        ri = ri[common_items].values\n",
    "        rj = rj[common_items].values\n",
    "        return ri, rj\n",
    "    \n",
    "    def item_jaccard_sim(self, i, j):\n",
    "        try:\n",
    "            return len(self.set_U(i) & self.set_U(j))/ len(self.set_U(i) | self.set_U(j))\n",
    "        except ZeroDivisionError:\n",
    "            print(\"check if input item IDs are valid\")\n",
    "            return 0.0\n",
    "    \n",
    "    def item_cosine_sim(self, i, j):\n",
    "        ri, rj = self.item_rat_intersec(i,j)\n",
    "        if len(ri) == 0:\n",
    "            return 0.0\n",
    "        return 1 - cosine(ri, rj)\n",
    "    \n",
    "    def user_cosine_sim(self, i, j):\n",
    "        ri, rj = self.user_rat_intersec(i,j)\n",
    "        if len(ri) == 0:\n",
    "            return 0.0\n",
    "        return 1 - cosine(ri, rj)\n",
    "    \n",
    "    def item_pearson_sim(self, i, j, normalize=True):\n",
    "        \"\"\"\n",
    "        normalize: whether to map the score from [-1,1] to [0,1]. \n",
    "                   this is an important step for conducting rating predictions.\n",
    "        \"\"\"\n",
    "        ri, rj = self.item_rat_intersec(i,j)\n",
    "        \n",
    "        if len(ri) == 0:\n",
    "            return 0.0\n",
    "       \n",
    "        # subtract from the average ratings in the intersec set\n",
    "        ri -= ri.mean()\n",
    "        rj -= rj.mean()\n",
    "        # if you substract from average ratings pre-calculated from the dataset,\n",
    "        # you would get a slightly different result but that's also fine.\n",
    "        # ri -= self.avg_rat_items[i]\n",
    "        # rj -= self.avg_rat_items[j]\n",
    "        # if any of ri and rj is a zero vector, return a similarity score of 0:\n",
    "        if np.count_nonzero(ri) == 0 or np.count_nonzero(rj) == 0:\n",
    "            return 0.0\n",
    "        sim_score = 1 - cosine(ri, rj)\n",
    "        if normalize:\n",
    "            sim_score = (sim_score + 1) / 2\n",
    "        return sim_score"
   ]
  },
  {
   "cell_type": "code",
   "execution_count": 24,
   "id": "d58f09dc-f9f8-4919-9824-d87fd077fa97",
   "metadata": {},
   "outputs": [],
   "source": [
    "sim = Similarity(\"ml-1m/ratings.dat\")"
   ]
  },
  {
   "cell_type": "code",
   "execution_count": 25,
   "id": "53699eb6-4d6c-4553-a092-b8e37c433a32",
   "metadata": {},
   "outputs": [
    {
     "data": {
      "text/plain": [
       "0.21469173589855706"
      ]
     },
     "execution_count": 25,
     "metadata": {},
     "output_type": "execute_result"
    }
   ],
   "source": [
    "sim.item_jaccard_sim(1,2)"
   ]
  },
  {
   "cell_type": "code",
   "execution_count": 26,
   "id": "df99e260-0c8b-42d1-afad-3bcc7acca909",
   "metadata": {},
   "outputs": [
    {
     "data": {
      "text/plain": [
       "0.4383346425765907"
      ]
     },
     "execution_count": 26,
     "metadata": {},
     "output_type": "execute_result"
    }
   ],
   "source": [
    "sim.item_jaccard_sim(1,3114)"
   ]
  },
  {
   "cell_type": "code",
   "execution_count": 27,
   "id": "456b58fa-2986-485f-90f2-a73ba16fdcee",
   "metadata": {},
   "outputs": [
    {
     "data": {
      "text/plain": [
       "0.9488934312758656"
      ]
     },
     "execution_count": 27,
     "metadata": {},
     "output_type": "execute_result"
    }
   ],
   "source": [
    "sim.item_cosine_sim(1,2)"
   ]
  },
  {
   "cell_type": "code",
   "execution_count": 28,
   "id": "3e5a6de1-fb4a-42f4-b3cf-caffcf6ca825",
   "metadata": {},
   "outputs": [
    {
     "data": {
      "text/plain": [
       "0.9863196644836281"
      ]
     },
     "execution_count": 28,
     "metadata": {},
     "output_type": "execute_result"
    }
   ],
   "source": [
    "sim.item_cosine_sim(1,3114)"
   ]
  },
  {
   "cell_type": "code",
   "execution_count": 29,
   "id": "3e4914b0-8f87-4966-a9c1-4844ddcb67a3",
   "metadata": {},
   "outputs": [
    {
     "data": {
      "text/plain": [
       "0.5937333724171574"
      ]
     },
     "execution_count": 29,
     "metadata": {},
     "output_type": "execute_result"
    }
   ],
   "source": [
    "sim.item_pearson_sim(1,2)"
   ]
  },
  {
   "cell_type": "code",
   "execution_count": 30,
   "id": "13243e3e-a1e4-4c57-80a8-5f25d8d38314",
   "metadata": {},
   "outputs": [
    {
     "data": {
      "text/plain": [
       "0.81519319006055"
      ]
     },
     "execution_count": 30,
     "metadata": {},
     "output_type": "execute_result"
    }
   ],
   "source": [
    "sim.item_pearson_sim(1,3114)"
   ]
  },
  {
   "cell_type": "markdown",
   "id": "9da381a3-10db-41df-8aea-929f054309a2",
   "metadata": {},
   "source": [
    "If you do not nomalize the pearson similarity scores, you will got the following (which is fine for this question, but will lead to some issues for rating predictions in Q3)"
   ]
  },
  {
   "cell_type": "code",
   "execution_count": 31,
   "id": "51b163eb-2cad-4438-a93e-3d9abc53370c",
   "metadata": {},
   "outputs": [
    {
     "data": {
      "text/plain": [
       "0.1874667448343148"
      ]
     },
     "execution_count": 31,
     "metadata": {},
     "output_type": "execute_result"
    }
   ],
   "source": [
    "sim.item_pearson_sim(1,2, normalize=False)"
   ]
  },
  {
   "cell_type": "code",
   "execution_count": 32,
   "id": "35eac4fb-262d-48c9-8a4c-bbf3e131a14a",
   "metadata": {},
   "outputs": [
    {
     "data": {
      "text/plain": [
       "0.6303863801211002"
      ]
     },
     "execution_count": 32,
     "metadata": {},
     "output_type": "execute_result"
    }
   ],
   "source": [
    "sim.item_pearson_sim(1,3114, normalize=False)"
   ]
  },
  {
   "cell_type": "markdown",
   "id": "fd7c8ae5-0ec1-4d18-be94-10e80253597e",
   "metadata": {},
   "source": [
    "Q1c: Pearson similarity seems to perform well for this particilar case as it gives reasonable similarity scores for both pairs. By eye-checking on the movie pairs, we would guess the second pair is more similar than the first pair. Pearsonal similarity gives the the most distiguishable scores among the three similarity functions."
   ]
  },
  {
   "cell_type": "markdown",
   "id": "bb7ac265-7973-4b20-9e3c-f461d50a58c2",
   "metadata": {
    "jp-MarkdownHeadingCollapsed": true,
    "tags": []
   },
   "source": [
    "## Question 3"
   ]
  },
  {
   "cell_type": "code",
   "execution_count": 33,
   "id": "1fc84554-8843-47b9-a8cb-ec3c0543100c",
   "metadata": {},
   "outputs": [],
   "source": [
    "from tqdm import tqdm\n",
    "\n",
    "class MemoryRecommender:\n",
    "    def __init__(self, sim, weight_type=\"item_cosine_sim\"):\n",
    "        self.sim = sim\n",
    "        self.weight_type = weight_type\n",
    "        try:\n",
    "            self.sim_func = getattr(sim, weight_type)\n",
    "        except AttributeError as e:\n",
    "            print(e)\n",
    "        self.movie_df = pd.read_csv(\"ml-1m/movies.dat\", sep='::', header=None, engine=\"python\", \n",
    "                                    encoding='latin-1', names=[\"movieID\", \"title\", \"genre\"])\n",
    "\n",
    "        \n",
    "    def rating_predict(self, userID, itemID, min_neighbors=1):\n",
    "        \"\"\"\n",
    "        min_neighbors: a threshold to filter low-confidence users, i.e., \n",
    "                         those with too many zero sim scores. default to 1.\n",
    "        \"\"\"\n",
    "        if self.weight_type.startswith(\"item\"):\n",
    "            user_df = self.sim.ratings[self.sim.ratings.userID == userID]\n",
    "            I_u = user_df.movieID.values\n",
    "            scores = user_df.rating.values\n",
    "            sim_scores = np.array([self.sim_func(i, itemID) for i in I_u])\n",
    "            if np.count_nonzero(sim_scores) < min_neighbors: \n",
    "                return 0.0\n",
    "            pred = np.dot(scores, sim_scores) / np.sum(sim_scores)\n",
    "            return pred\n",
    "        \n",
    "        elif self.weight_type.startswith(\"user\"):\n",
    "            item_df = self.sim.ratings[self.sim.ratings.movieID == itemID]\n",
    "            U_i = item_df.userID.values\n",
    "            scores = item_df.rating.values\n",
    "            sim_scores = np.array([self.sim_func(u, userID) for u in U_i])\n",
    "            if np.count_nonzero(sim_scores) < min_neighbors: \n",
    "                return 0.0\n",
    "            pred = np.dot(scores, sim_scores) / np.sum(sim_scores)\n",
    "            return pred\n",
    "    \n",
    "    \n",
    "    def topk(self, userID, k=5, min_neighbors=1):\n",
    "        rating_df = self.sim.ratings\n",
    "        user_watched_movies = set(rating_df[rating_df.userID == userID].movieID.values)\n",
    "        candidates = set(rating_df.movieID.unique()) - user_watched_movies\n",
    "        print(f\"selecting from {len(candidates)} movie candidates...\")\n",
    "        pred_scores = {}\n",
    "        for i_cand in tqdm(candidates):\n",
    "            pred_scores[i_cand] = self.rating_predict(userID, i_cand, min_neighbors)\n",
    "        sorted_index = np.argsort(list(pred_scores.values()))[::-1][:k]\n",
    "        rec_movie_IDs = np.array(list(pred_scores.keys()))[sorted_index]\n",
    "        rec_df = self.movie_df[self.movie_df.movieID.isin(rec_movie_IDs)].copy()\n",
    "        rec_df[\"pred_scores\"] = [pred_scores[i] for i in rec_movie_IDs]\n",
    "        return rec_df"
   ]
  },
  {
   "cell_type": "code",
   "execution_count": 34,
   "id": "53d9805a-ca97-4c52-b7be-32e7f441218d",
   "metadata": {},
   "outputs": [],
   "source": [
    "sim = Similarity(\"ml-1m/ratings.dat\")"
   ]
  },
  {
   "cell_type": "code",
   "execution_count": 35,
   "id": "fae7e50f-9f6c-44ff-905d-f10cfc0f8d49",
   "metadata": {
    "tags": []
   },
   "outputs": [
    {
     "name": "stdout",
     "output_type": "stream",
     "text": [
      "selecting from 3671 movie candidates...\n"
     ]
    },
    {
     "name": "stderr",
     "output_type": "stream",
     "text": [
      "100%|██████████| 3671/3671 [05:11<00:00, 11.80it/s]\n"
     ]
    },
    {
     "data": {
      "text/html": [
       "<div>\n",
       "<style scoped>\n",
       "    .dataframe tbody tr th:only-of-type {\n",
       "        vertical-align: middle;\n",
       "    }\n",
       "\n",
       "    .dataframe tbody tr th {\n",
       "        vertical-align: top;\n",
       "    }\n",
       "\n",
       "    .dataframe thead th {\n",
       "        text-align: right;\n",
       "    }\n",
       "</style>\n",
       "<table border=\"1\" class=\"dataframe\">\n",
       "  <thead>\n",
       "    <tr style=\"text-align: right;\">\n",
       "      <th></th>\n",
       "      <th>movieID</th>\n",
       "      <th>title</th>\n",
       "      <th>genre</th>\n",
       "      <th>pred_scores</th>\n",
       "    </tr>\n",
       "  </thead>\n",
       "  <tbody>\n",
       "    <tr>\n",
       "      <th>649</th>\n",
       "      <td>655</td>\n",
       "      <td>Mutters Courage (1995)</td>\n",
       "      <td>Comedy</td>\n",
       "      <td>5.0</td>\n",
       "    </tr>\n",
       "    <tr>\n",
       "      <th>1538</th>\n",
       "      <td>1579</td>\n",
       "      <td>For Ever Mozart (1996)</td>\n",
       "      <td>Drama</td>\n",
       "      <td>5.0</td>\n",
       "    </tr>\n",
       "    <tr>\n",
       "      <th>1764</th>\n",
       "      <td>1832</td>\n",
       "      <td>Heaven's Burning (1997)</td>\n",
       "      <td>Action|Drama</td>\n",
       "      <td>5.0</td>\n",
       "    </tr>\n",
       "    <tr>\n",
       "      <th>2369</th>\n",
       "      <td>2438</td>\n",
       "      <td>Outside Ozona (1998)</td>\n",
       "      <td>Drama|Thriller</td>\n",
       "      <td>5.0</td>\n",
       "    </tr>\n",
       "    <tr>\n",
       "      <th>3772</th>\n",
       "      <td>3842</td>\n",
       "      <td>Make Them Die Slowly (Cannibal Ferox) (1980)</td>\n",
       "      <td>Horror</td>\n",
       "      <td>5.0</td>\n",
       "    </tr>\n",
       "  </tbody>\n",
       "</table>\n",
       "</div>"
      ],
      "text/plain": [
       "      movieID                                         title           genre  \\\n",
       "649       655                        Mutters Courage (1995)          Comedy   \n",
       "1538     1579                        For Ever Mozart (1996)           Drama   \n",
       "1764     1832                       Heaven's Burning (1997)    Action|Drama   \n",
       "2369     2438                          Outside Ozona (1998)  Drama|Thriller   \n",
       "3772     3842  Make Them Die Slowly (Cannibal Ferox) (1980)          Horror   \n",
       "\n",
       "      pred_scores  \n",
       "649           5.0  \n",
       "1538          5.0  \n",
       "1764          5.0  \n",
       "2369          5.0  \n",
       "3772          5.0  "
      ]
     },
     "execution_count": 35,
     "metadata": {},
     "output_type": "execute_result"
    }
   ],
   "source": [
    "recommender = MemoryRecommender(sim, weight_type=\"item_cosine_sim\")\n",
    "recommender.topk(userID=381, k=5, min_neighbors=1)"
   ]
  },
  {
   "cell_type": "code",
   "execution_count": 36,
   "id": "5bc40121-07ae-4793-9a01-6779c8ad1868",
   "metadata": {},
   "outputs": [
    {
     "name": "stdout",
     "output_type": "stream",
     "text": [
      "selecting from 3671 movie candidates...\n"
     ]
    },
    {
     "name": "stderr",
     "output_type": "stream",
     "text": [
      "100%|██████████| 3671/3671 [04:59<00:00, 12.26it/s]\n"
     ]
    },
    {
     "data": {
      "text/html": [
       "<div>\n",
       "<style scoped>\n",
       "    .dataframe tbody tr th:only-of-type {\n",
       "        vertical-align: middle;\n",
       "    }\n",
       "\n",
       "    .dataframe tbody tr th {\n",
       "        vertical-align: top;\n",
       "    }\n",
       "\n",
       "    .dataframe thead th {\n",
       "        text-align: right;\n",
       "    }\n",
       "</style>\n",
       "<table border=\"1\" class=\"dataframe\">\n",
       "  <thead>\n",
       "    <tr style=\"text-align: right;\">\n",
       "      <th></th>\n",
       "      <th>movieID</th>\n",
       "      <th>title</th>\n",
       "      <th>genre</th>\n",
       "      <th>pred_scores</th>\n",
       "    </tr>\n",
       "  </thead>\n",
       "  <tbody>\n",
       "    <tr>\n",
       "      <th>398</th>\n",
       "      <td>402</td>\n",
       "      <td>Open Season (1996)</td>\n",
       "      <td>Comedy</td>\n",
       "      <td>4.769231</td>\n",
       "    </tr>\n",
       "    <tr>\n",
       "      <th>553</th>\n",
       "      <td>557</td>\n",
       "      <td>Mamma Roma (1962)</td>\n",
       "      <td>Drama</td>\n",
       "      <td>4.750000</td>\n",
       "    </tr>\n",
       "    <tr>\n",
       "      <th>572</th>\n",
       "      <td>576</td>\n",
       "      <td>Fausto (1993)</td>\n",
       "      <td>Comedy</td>\n",
       "      <td>4.750000</td>\n",
       "    </tr>\n",
       "    <tr>\n",
       "      <th>681</th>\n",
       "      <td>690</td>\n",
       "      <td>Promise, The (Versprechen, Das) (1994)</td>\n",
       "      <td>Romance</td>\n",
       "      <td>4.690695</td>\n",
       "    </tr>\n",
       "    <tr>\n",
       "      <th>708</th>\n",
       "      <td>717</td>\n",
       "      <td>Mouth to Mouth (Boca a boca) (1995)</td>\n",
       "      <td>Comedy</td>\n",
       "      <td>4.667001</td>\n",
       "    </tr>\n",
       "    <tr>\n",
       "      <th>764</th>\n",
       "      <td>774</td>\n",
       "      <td>Wend Kuuni (God's Gift) (1982)</td>\n",
       "      <td>Drama</td>\n",
       "      <td>4.666667</td>\n",
       "    </tr>\n",
       "    <tr>\n",
       "      <th>877</th>\n",
       "      <td>889</td>\n",
       "      <td>1-900 (1994)</td>\n",
       "      <td>Romance</td>\n",
       "      <td>4.625000</td>\n",
       "    </tr>\n",
       "    <tr>\n",
       "      <th>1048</th>\n",
       "      <td>1062</td>\n",
       "      <td>Sunchaser, The (1996)</td>\n",
       "      <td>Drama</td>\n",
       "      <td>4.625000</td>\n",
       "    </tr>\n",
       "    <tr>\n",
       "      <th>1750</th>\n",
       "      <td>1815</td>\n",
       "      <td>Eden (1997)</td>\n",
       "      <td>Drama</td>\n",
       "      <td>4.625000</td>\n",
       "    </tr>\n",
       "    <tr>\n",
       "      <th>2840</th>\n",
       "      <td>2909</td>\n",
       "      <td>Five Wives, Three Secretaries and Me (1998)</td>\n",
       "      <td>Documentary</td>\n",
       "      <td>4.625000</td>\n",
       "    </tr>\n",
       "  </tbody>\n",
       "</table>\n",
       "</div>"
      ],
      "text/plain": [
       "      movieID                                        title        genre  \\\n",
       "398       402                           Open Season (1996)       Comedy   \n",
       "553       557                            Mamma Roma (1962)        Drama   \n",
       "572       576                                Fausto (1993)       Comedy   \n",
       "681       690       Promise, The (Versprechen, Das) (1994)      Romance   \n",
       "708       717          Mouth to Mouth (Boca a boca) (1995)       Comedy   \n",
       "764       774               Wend Kuuni (God's Gift) (1982)        Drama   \n",
       "877       889                                 1-900 (1994)      Romance   \n",
       "1048     1062                        Sunchaser, The (1996)        Drama   \n",
       "1750     1815                                  Eden (1997)        Drama   \n",
       "2840     2909  Five Wives, Three Secretaries and Me (1998)  Documentary   \n",
       "\n",
       "      pred_scores  \n",
       "398      4.769231  \n",
       "553      4.750000  \n",
       "572      4.750000  \n",
       "681      4.690695  \n",
       "708      4.667001  \n",
       "764      4.666667  \n",
       "877      4.625000  \n",
       "1048     4.625000  \n",
       "1750     4.625000  \n",
       "2840     4.625000  "
      ]
     },
     "execution_count": 36,
     "metadata": {},
     "output_type": "execute_result"
    }
   ],
   "source": [
    "recommender.topk(userID=381, k=10, min_neighbors=3)"
   ]
  },
  {
   "cell_type": "code",
   "execution_count": 37,
   "id": "d46b73ed-1963-4d6b-9154-bc0fbc1bbf82",
   "metadata": {
    "tags": []
   },
   "outputs": [
    {
     "name": "stdout",
     "output_type": "stream",
     "text": [
      "selecting from 3671 movie candidates...\n"
     ]
    },
    {
     "name": "stderr",
     "output_type": "stream",
     "text": [
      "100%|██████████| 3671/3671 [04:53<00:00, 12.49it/s]\n"
     ]
    },
    {
     "data": {
      "text/html": [
       "<div>\n",
       "<style scoped>\n",
       "    .dataframe tbody tr th:only-of-type {\n",
       "        vertical-align: middle;\n",
       "    }\n",
       "\n",
       "    .dataframe tbody tr th {\n",
       "        vertical-align: top;\n",
       "    }\n",
       "\n",
       "    .dataframe thead th {\n",
       "        text-align: right;\n",
       "    }\n",
       "</style>\n",
       "<table border=\"1\" class=\"dataframe\">\n",
       "  <thead>\n",
       "    <tr style=\"text-align: right;\">\n",
       "      <th></th>\n",
       "      <th>movieID</th>\n",
       "      <th>title</th>\n",
       "      <th>genre</th>\n",
       "      <th>pred_scores</th>\n",
       "    </tr>\n",
       "  </thead>\n",
       "  <tbody>\n",
       "    <tr>\n",
       "      <th>435</th>\n",
       "      <td>439</td>\n",
       "      <td>Dangerous Game (1993)</td>\n",
       "      <td>Drama</td>\n",
       "      <td>5.000000</td>\n",
       "    </tr>\n",
       "    <tr>\n",
       "      <th>553</th>\n",
       "      <td>557</td>\n",
       "      <td>Mamma Roma (1962)</td>\n",
       "      <td>Drama</td>\n",
       "      <td>5.000000</td>\n",
       "    </tr>\n",
       "    <tr>\n",
       "      <th>1443</th>\n",
       "      <td>1471</td>\n",
       "      <td>Boys Life 2 (1997)</td>\n",
       "      <td>Drama</td>\n",
       "      <td>5.000000</td>\n",
       "    </tr>\n",
       "    <tr>\n",
       "      <th>1735</th>\n",
       "      <td>1795</td>\n",
       "      <td>Callejón de los milagros, El (1995)</td>\n",
       "      <td>Drama</td>\n",
       "      <td>5.000000</td>\n",
       "    </tr>\n",
       "    <tr>\n",
       "      <th>1792</th>\n",
       "      <td>1861</td>\n",
       "      <td>Junk Mail (1997)</td>\n",
       "      <td>Comedy|Thriller</td>\n",
       "      <td>5.000000</td>\n",
       "    </tr>\n",
       "    <tr>\n",
       "      <th>3015</th>\n",
       "      <td>3084</td>\n",
       "      <td>Home Page (1999)</td>\n",
       "      <td>Documentary</td>\n",
       "      <td>5.000000</td>\n",
       "    </tr>\n",
       "    <tr>\n",
       "      <th>3283</th>\n",
       "      <td>3352</td>\n",
       "      <td>Brown's Requiem (1998)</td>\n",
       "      <td>Drama</td>\n",
       "      <td>5.000000</td>\n",
       "    </tr>\n",
       "    <tr>\n",
       "      <th>3473</th>\n",
       "      <td>3542</td>\n",
       "      <td>Coming Apart (1969)</td>\n",
       "      <td>Drama</td>\n",
       "      <td>5.000000</td>\n",
       "    </tr>\n",
       "    <tr>\n",
       "      <th>3588</th>\n",
       "      <td>3657</td>\n",
       "      <td>Pandora and the Flying Dutchman (1951)</td>\n",
       "      <td>Drama</td>\n",
       "      <td>5.000000</td>\n",
       "    </tr>\n",
       "    <tr>\n",
       "      <th>3679</th>\n",
       "      <td>3748</td>\n",
       "      <td>Match, The (1999)</td>\n",
       "      <td>Comedy|Romance</td>\n",
       "      <td>4.987315</td>\n",
       "    </tr>\n",
       "  </tbody>\n",
       "</table>\n",
       "</div>"
      ],
      "text/plain": [
       "      movieID                                   title            genre  \\\n",
       "435       439                   Dangerous Game (1993)            Drama   \n",
       "553       557                       Mamma Roma (1962)            Drama   \n",
       "1443     1471                      Boys Life 2 (1997)            Drama   \n",
       "1735     1795     Callejón de los milagros, El (1995)            Drama   \n",
       "1792     1861                        Junk Mail (1997)  Comedy|Thriller   \n",
       "3015     3084                        Home Page (1999)      Documentary   \n",
       "3283     3352                  Brown's Requiem (1998)            Drama   \n",
       "3473     3542                     Coming Apart (1969)            Drama   \n",
       "3588     3657  Pandora and the Flying Dutchman (1951)            Drama   \n",
       "3679     3748                       Match, The (1999)   Comedy|Romance   \n",
       "\n",
       "      pred_scores  \n",
       "435      5.000000  \n",
       "553      5.000000  \n",
       "1443     5.000000  \n",
       "1735     5.000000  \n",
       "1792     5.000000  \n",
       "3015     5.000000  \n",
       "3283     5.000000  \n",
       "3473     5.000000  \n",
       "3588     5.000000  \n",
       "3679     4.987315  "
      ]
     },
     "execution_count": 37,
     "metadata": {},
     "output_type": "execute_result"
    }
   ],
   "source": [
    "recommender = MemoryRecommender(sim, weight_type=\"item_pearson_sim\")\n",
    "recommender.topk(userID=381, k=10, min_neighbors=1)"
   ]
  },
  {
   "cell_type": "code",
   "execution_count": 39,
   "id": "3c1eb86a-953f-409f-83fb-1ef95f6cbe82",
   "metadata": {
    "tags": []
   },
   "outputs": [
    {
     "name": "stdout",
     "output_type": "stream",
     "text": [
      "selecting from 3671 movie candidates...\n"
     ]
    },
    {
     "name": "stderr",
     "output_type": "stream",
     "text": [
      "100%|██████████| 3671/3671 [34:30<00:00,  1.77it/s]  \n"
     ]
    },
    {
     "data": {
      "text/html": [
       "<div>\n",
       "<style scoped>\n",
       "    .dataframe tbody tr th:only-of-type {\n",
       "        vertical-align: middle;\n",
       "    }\n",
       "\n",
       "    .dataframe tbody tr th {\n",
       "        vertical-align: top;\n",
       "    }\n",
       "\n",
       "    .dataframe thead th {\n",
       "        text-align: right;\n",
       "    }\n",
       "</style>\n",
       "<table border=\"1\" class=\"dataframe\">\n",
       "  <thead>\n",
       "    <tr style=\"text-align: right;\">\n",
       "      <th></th>\n",
       "      <th>movieID</th>\n",
       "      <th>title</th>\n",
       "      <th>genre</th>\n",
       "      <th>pred_scores</th>\n",
       "    </tr>\n",
       "  </thead>\n",
       "  <tbody>\n",
       "    <tr>\n",
       "      <th>49</th>\n",
       "      <td>50</td>\n",
       "      <td>Usual Suspects, The (1995)</td>\n",
       "      <td>Crime|Thriller</td>\n",
       "      <td>5.000000</td>\n",
       "    </tr>\n",
       "    <tr>\n",
       "      <th>52</th>\n",
       "      <td>53</td>\n",
       "      <td>Lamerica (1994)</td>\n",
       "      <td>Drama</td>\n",
       "      <td>4.797938</td>\n",
       "    </tr>\n",
       "    <tr>\n",
       "      <th>315</th>\n",
       "      <td>318</td>\n",
       "      <td>Shawshank Redemption, The (1994)</td>\n",
       "      <td>Drama</td>\n",
       "      <td>4.744426</td>\n",
       "    </tr>\n",
       "    <tr>\n",
       "      <th>735</th>\n",
       "      <td>745</td>\n",
       "      <td>Close Shave, A (1995)</td>\n",
       "      <td>Animation|Comedy|Thriller</td>\n",
       "      <td>4.673080</td>\n",
       "    </tr>\n",
       "    <tr>\n",
       "      <th>777</th>\n",
       "      <td>787</td>\n",
       "      <td>Gate of Heavenly Peace, The (1995)</td>\n",
       "      <td>Documentary</td>\n",
       "      <td>4.613191</td>\n",
       "    </tr>\n",
       "    <tr>\n",
       "      <th>847</th>\n",
       "      <td>858</td>\n",
       "      <td>Godfather, The (1972)</td>\n",
       "      <td>Action|Crime|Drama</td>\n",
       "      <td>4.569584</td>\n",
       "    </tr>\n",
       "    <tr>\n",
       "      <th>1950</th>\n",
       "      <td>2019</td>\n",
       "      <td>Seven Samurai (The Magnificent Seven) (Shichin...</td>\n",
       "      <td>Action|Drama</td>\n",
       "      <td>4.557808</td>\n",
       "    </tr>\n",
       "    <tr>\n",
       "      <th>2434</th>\n",
       "      <td>2503</td>\n",
       "      <td>Apple, The (Sib) (1998)</td>\n",
       "      <td>Drama</td>\n",
       "      <td>4.536578</td>\n",
       "    </tr>\n",
       "    <tr>\n",
       "      <th>2836</th>\n",
       "      <td>2905</td>\n",
       "      <td>Sanjuro (1962)</td>\n",
       "      <td>Action|Adventure</td>\n",
       "      <td>4.519983</td>\n",
       "    </tr>\n",
       "    <tr>\n",
       "      <th>3176</th>\n",
       "      <td>3245</td>\n",
       "      <td>I Am Cuba (Soy Cuba/Ya Kuba) (1964)</td>\n",
       "      <td>Drama</td>\n",
       "      <td>4.512115</td>\n",
       "    </tr>\n",
       "  </tbody>\n",
       "</table>\n",
       "</div>"
      ],
      "text/plain": [
       "      movieID                                              title  \\\n",
       "49         50                         Usual Suspects, The (1995)   \n",
       "52         53                                    Lamerica (1994)   \n",
       "315       318                   Shawshank Redemption, The (1994)   \n",
       "735       745                              Close Shave, A (1995)   \n",
       "777       787                 Gate of Heavenly Peace, The (1995)   \n",
       "847       858                              Godfather, The (1972)   \n",
       "1950     2019  Seven Samurai (The Magnificent Seven) (Shichin...   \n",
       "2434     2503                            Apple, The (Sib) (1998)   \n",
       "2836     2905                                     Sanjuro (1962)   \n",
       "3176     3245                I Am Cuba (Soy Cuba/Ya Kuba) (1964)   \n",
       "\n",
       "                          genre  pred_scores  \n",
       "49               Crime|Thriller     5.000000  \n",
       "52                        Drama     4.797938  \n",
       "315                       Drama     4.744426  \n",
       "735   Animation|Comedy|Thriller     4.673080  \n",
       "777                 Documentary     4.613191  \n",
       "847          Action|Crime|Drama     4.569584  \n",
       "1950               Action|Drama     4.557808  \n",
       "2434                      Drama     4.536578  \n",
       "2836           Action|Adventure     4.519983  \n",
       "3176                      Drama     4.512115  "
      ]
     },
     "execution_count": 39,
     "metadata": {},
     "output_type": "execute_result"
    }
   ],
   "source": [
    "recommender = MemoryRecommender(sim, weight_type=\"user_cosine_sim\")\n",
    "recommender.topk(userID=381, k=10, min_neighbors=3)"
   ]
  },
  {
   "cell_type": "code",
   "execution_count": null,
   "id": "d2c799e8-e8e8-4d73-bea5-d6bdbc590e12",
   "metadata": {},
   "outputs": [],
   "source": []
  }
 ],
 "metadata": {
  "kernelspec": {
   "display_name": "Python 3",
   "language": "python",
   "name": "python3"
  },
  "language_info": {
   "codemirror_mode": {
    "name": "ipython",
    "version": 3
   },
   "file_extension": ".py",
   "mimetype": "text/x-python",
   "name": "python",
   "nbconvert_exporter": "python",
   "pygments_lexer": "ipython3",
   "version": "3.8.13"
  }
 },
 "nbformat": 4,
 "nbformat_minor": 5
}
